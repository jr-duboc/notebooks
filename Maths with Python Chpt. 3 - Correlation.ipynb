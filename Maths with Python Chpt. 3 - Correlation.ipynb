{
 "cells": [
  {
   "cell_type": "code",
   "execution_count": 3,
   "metadata": {},
   "outputs": [
    {
     "name": "stdout",
     "output_type": "stream",
     "text": [
      "1 4\n",
      "2 5\n",
      "3 6\n",
      "15 5\n"
     ]
    }
   ],
   "source": [
    "'''Zip function example'''\n",
    "\n",
    "simple_list1 = [1, 2, 3, 15]\n",
    "simple_list2 = [4, 5, 6, 5]\n",
    "for x, y in zip(simple_list1, simple_list2):\n",
    "        print(x,y)"
   ]
  },
  {
   "cell_type": "code",
   "execution_count": 12,
   "metadata": {},
   "outputs": [],
   "source": [
    "'''\n",
    "    Calculating Pearsons's coefficient\n",
    "'''\n",
    "\n",
    "def find_corr_x_y(x,y):\n",
    "    n = len(x)\n",
    "    \n",
    "    # Sum of products\n",
    "    prod = []\n",
    "    for xi,yi in zip(x,y):\n",
    "        prod.append(xi*yi)\n",
    "        \n",
    "    sum_prod_x_y = sum(prod)\n",
    "    sum_x = sum(x)\n",
    "    sum_y = sum(y)\n",
    "    squared_sum_x = sum_x**2\n",
    "    squared_sum_y = sum_y**2\n",
    "    \n",
    "    x_square = [] \n",
    "    for xi in x:\n",
    "        x_square.append(xi**2)\n",
    "    # Sum all squared x\n",
    "    x_square_sum = sum(x_square)\n",
    "    \n",
    "    y_square = [] \n",
    "    for yi in y:\n",
    "        y_square.append(yi**2)\n",
    "    # Sum all squared x\n",
    "    y_square_sum = sum(y_square)\n",
    "    \n",
    "    # Bring it all together in a formula\n",
    "    \n",
    "    numerator = n*sum_prod_x_y - sum_x*sum_y\n",
    "    denominator_term_1 = n*x_square_sum - squared_sum_x\n",
    "    denominator_term_2 = n*y_square_sum - squared_sum_y\n",
    "    denominator = (denominator_term_1*denominator_term_2)**0.5\n",
    "    \n",
    "    correlation = numerator/denominator\n",
    "    \n",
    "    return correlation\n",
    " "
   ]
  },
  {
   "cell_type": "code",
   "execution_count": 13,
   "metadata": {},
   "outputs": [
    {
     "data": {
      "image/png": "[encoded data removed]",
      "text/plain": [
       "<Figure size 432x288 with 1 Axes>"
      ]
     },
     "metadata": {
      "needs_background": "light"
     },
     "output_type": "display_data"
    },
    {
     "data": {
      "text/plain": [
       "1.0"
      ]
     },
     "execution_count": 13,
     "metadata": {},
     "output_type": "execute_result"
    }
   ],
   "source": [
    "x = [1, 2, 3, 4]\n",
    "y = [2, 4, 6, 8]\n",
    "import matplotlib.pyplot as plt\n",
    "plt.scatter(x, y)\n",
    "plt.show()\n",
    "\n",
    "find_corr_x_y(x,y)"
   ]
  },
  {
   "cell_type": "code",
   "execution_count": null,
   "metadata": {},
   "outputs": [],
   "source": []
  }
 ],
 "metadata": {
  "kernelspec": {
   "display_name": "Python 2",
   "language": "python",
   "name": "python2"
  },
  "language_info": {
   "codemirror_mode": {
    "name": "ipython",
    "version": 2
   },
   "file_extension": ".py",
   "mimetype": "text/x-python",
   "name": "python",
   "nbconvert_exporter": "python",
   "pygments_lexer": "ipython2",
   "version": "2.7.15"
  }
 },
 "nbformat": 4,
 "nbformat_minor": 2
}
