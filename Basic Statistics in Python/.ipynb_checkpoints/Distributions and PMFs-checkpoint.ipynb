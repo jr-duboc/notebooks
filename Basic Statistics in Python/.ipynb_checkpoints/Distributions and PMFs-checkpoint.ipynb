{
 "cells": [
  {
   "cell_type": "code",
   "execution_count": 4,
   "metadata": {},
   "outputs": [
    {
     "name": "stdout",
     "output_type": "stream",
     "text": [
      "{100.0: 0.3, 60.0: 0.1, 70.0: 0.1, 500.0: 0.4, 900.0: 0.1, 200.0: 0.1, 503.0: 0.1, 600.0: 0.1, 1000.0: 0.2, 1200.0: 0.2}\n"
     ]
    }
   ],
   "source": [
    "# Compute frequencies using a dictionary\n",
    "\n",
    "def compute_frequencies(filename):\n",
    "    with open(filename) as f:\n",
    "        hist = {}\n",
    "        for line in f:\n",
    "            x = float(line)\n",
    "            hist[x] = hist.get(x, 0) + 1\n",
    "    return hist\n",
    "\n",
    "def normalise(frequencies):\n",
    "    n = float(len(frequencies))\n",
    "    pmf = {}\n",
    "    for x, freq in frequencies.items():\n",
    "        pmf[x] = freq / n\n",
    "    return pmf\n",
    "\n",
    "    \n",
    "print(normalise(compute_frequencies('random-data-1.txt')))"
   ]
  },
  {
   "cell_type": "code",
   "execution_count": 51,
   "metadata": {},
   "outputs": [
    {
     "name": "stdout",
     "output_type": "stream",
     "text": [
      "Bimodal distribution: 2 and 5\n",
      "3.5\n"
     ]
    }
   ],
   "source": [
    "# Determine the mode of a Hist object\n",
    "\n",
    "import Pmf\n",
    "\n",
    "hist = Pmf.MakeHistFromList([1, 2, 2, 3, 5,5,4])\n",
    "\n",
    "def Mode(hist):\n",
    "    items = hist.Items()\n",
    "    highestFrequency = 0\n",
    "    mode = 0\n",
    "    modesCounter = 1\n",
    "    for item,freq in items:\n",
    "        if freq > highestFrequency:\n",
    "            highestFrequency = freq\n",
    "            mode = item\n",
    "        if freq == highestFrequency and item != mode:\n",
    "            modesCounter = modesCounter + 1\n",
    "            if modesCounter == 2:\n",
    "                print(\"Bimodal distribution: {0} and {1}\".format(mode,item))\n",
    "                mode = (item + mode) / 2\n",
    "            else:\n",
    "                print(\"Too many modes\")\n",
    "                return\n",
    "    return mode\n",
    "\n",
    "print(Mode(hist))"
   ]
  },
  {
   "cell_type": "code",
   "execution_count": 15,
   "metadata": {
    "scrolled": true
   },
   "outputs": [
    {
     "name": "stdout",
     "output_type": "stream",
     "text": [
      "mean 23.692307692307693\n"
     ]
    },
    {
     "data": {
      "image/png": "[encoded data removed]",
      "text/plain": [
       "<Figure size 432x288 with 1 Axes>"
      ]
     },
     "metadata": {
      "needs_background": "light"
     },
     "output_type": "display_data"
    },
    {
     "data": {
      "text/plain": [
       "<Figure size 576x432 with 0 Axes>"
      ]
     },
     "metadata": {},
     "output_type": "display_data"
    }
   ],
   "source": [
    "# The class size paradox\n",
    "import thinkstats2\n",
    "import thinkplot\n",
    "\n",
    "d = { 7: 8, 12: 8, 17: 14, 22: 4,\n",
    "27: 6, 32: 12, 37: 8, 42: 3, 47: 2 }\n",
    "pmf = thinkstats2.Pmf(d, label='actual')\n",
    "print('mean', pmf.Mean())\n",
    "\n",
    "# Biased PMF, influenced by number of students \n",
    "\n",
    "def BiasPmf(pmf, label):\n",
    "    new_pmf = pmf.Copy(label=label)\n",
    "    for x, p in pmf.Items():\n",
    "        new_pmf.Mult(x, x) # multiply each observation by the number of students making the observation --> bias\n",
    "    new_pmf.Normalize()\n",
    "    return new_pmf\n",
    "\n",
    "\n",
    "def UnbiasPmf(pmf, label):\n",
    "    new_pmf = pmf.Copy(label=label)\n",
    "    for x, p in pmf.Items():\n",
    "        new_pmf.Mult(x, 1.0/x) # we divide the observation by the number of people making it, to even out bias\n",
    "        new_pmf.Normalize()\n",
    "    return new_pmf\n",
    "\n",
    "biased_pmf = BiasPmf(pmf, label='observed')\n",
    "unbiased_pmf = UnbiasPmf(pmf, label='unbiased')\n",
    "thinkplot.PrePlot(3)\n",
    "thinkplot.Pmfs([pmf, biased_pmf,unbiased_pmf])\n",
    "thinkplot.Show(xlabel='class size', ylabel='PMF')\n"
   ]
  },
  {
   "cell_type": "code",
   "execution_count": 34,
   "metadata": {
    "scrolled": true
   },
   "outputs": [
    {
     "data": {
      "text/plain": [
       "A    0.614013\n",
       "B   -0.251235\n",
       "Name: a, dtype: float64"
      ]
     },
     "execution_count": 34,
     "metadata": {},
     "output_type": "execute_result"
    }
   ],
   "source": [
    "import numpy as np\n",
    "import pandas\n",
    "array = np.random.randn(4,2)\n",
    "df = pandas.DataFrame(array,columns = ['A', 'B'],index=['a', 'b', 'c', 'd'])\n",
    "df.loc['a']"
   ]
  },
  {
   "cell_type": "code",
   "execution_count": null,
   "metadata": {},
   "outputs": [],
   "source": []
  }
 ],
 "metadata": {
  "kernelspec": {
   "display_name": "Python 3",
   "language": "python",
   "name": "python3"
  },
  "language_info": {
   "codemirror_mode": {
    "name": "ipython",
    "version": 3
   },
   "file_extension": ".py",
   "mimetype": "text/x-python",
   "name": "python",
   "nbconvert_exporter": "python",
   "pygments_lexer": "ipython3",
   "version": "3.7.3"
  }
 },
 "nbformat": 4,
 "nbformat_minor": 2
}
