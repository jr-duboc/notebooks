{
 "cells": [
  {
   "cell_type": "markdown",
   "metadata": {},
   "source": [
    "# The Linda problem - combined probability and the Conjunction Fallacy\n",
    "\n",
    "A famous thought experiment by Amos Tversky and Daniel Kahneman exposes a common fallacy called the Conjunction Fallacy. \n",
    "    \n",
    "Consider the following:\n",
    "\n",
    "> Linda is 31 years old, single, outspoken, and very bright. She majored in philosophy. As a student, she was deeply concerned with issues of discrimination and social justice, and also participated in anti-nuclear demonstrations.\n",
    ">\n",
    "> Which is more probable?\n",
    ">\n",
    "> 1. Linda is a bank teller.\n",
    "> 2. Linda is a bank teller **and** is active in the feminist movement.\n",
    "        \n",
    "Most people, even with statistical knowledge, answer 2, but this is wrong.  \n",
    "Most of us forget that the probability of two events happening together (in conjunction) is always either equal or smaller than the probability of each event happening on their own.  \n",
    "If we imagine $\\mathbb{P}(Linda\\space is\\space a\\space bank\\space teller) = 0.05$(which is the same as the first answer) and $\\mathbb{P}(Linda\\space is\\space a\\space feminist)=0.95$, assumint these are two independent events, the combined probability(our second answer) will be $0.05 \\times 0.95 = 0.0475$. The first answer is clearly more probable. This will work for any probability we find for each event.\n",
    "\n",
    "In other words, **it's *always* more likely (or at least as likely) that Linda is just \"one thing\", rather than the combination of \"two or more things\"**."
   ]
  },
  {
   "cell_type": "code",
   "execution_count": null,
   "metadata": {},
   "outputs": [],
   "source": []
  }
 ],
 "metadata": {
  "kernelspec": {
   "display_name": "Python 3",
   "language": "python",
   "name": "python3"
  },
  "language_info": {
   "codemirror_mode": {
    "name": "ipython",
    "version": 3
   },
   "file_extension": ".py",
   "mimetype": "text/x-python",
   "name": "python",
   "nbconvert_exporter": "python",
   "pygments_lexer": "ipython3",
   "version": "3.7.3"
  }
 },
 "nbformat": 4,
 "nbformat_minor": 2
}
