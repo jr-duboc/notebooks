{
 "cells": [
  {
   "cell_type": "markdown",
   "metadata": {},
   "source": [
    "# Probability\n",
    "\n",
    "## Basic Concepts and Terminology\n",
    "\n",
    "When an **random event** can have multiple outcomes, probability is the art of determining the chance of each outcome occuring. \n",
    "A **trial**, **experiment** or **observation** is the way we think about the event or events that we want to understand.\n",
    "\n",
    "The **sample space** is the [set](../../Maths%20and%20Computer%20Science/Set%20Theory.ipynb) of all possible outcomes for an event.\n",
    "\n",
    "The **probability function** is the mathematical description of the probability for each event in sample space. For a coin toss we would write $P(Heads) = \\frac{1}{2}$ and $P(Tails) = \\frac{1}{2}$.\n"
   ]
  },
  {
   "cell_type": "markdown",
   "metadata": {},
   "source": [
    "## Conditional probability, dependent and independent events\n",
    "\n",
    "Two events are **dependent** if the outcomes of one event doesn't affect the outcome probabilities. Again the perfect example is a coin toss: if get heads on your first toss, this doesn't affect the second one. \n",
    "\n",
    "Probability of event A given event B:\n",
    "\n",
    "$\n",
    "P(B|A) = \\frac{P(A and B)}{P(A)}\n",
    "$\n",
    "\n",
    "If we define A to be a Heads on the first toss and B to be Heads on the second, we have $P(A and B) = \\frac{1}{4}$, and $P(A) = \\frac{1}{2}$ as well, so $P(B|A) = \\frac{1}{2}$.\n",
    "Since we have $P(B) = P(B|A)$, we know that outcome A doesn't make any difference to the outcome of our second event."
   ]
  },
  {
   "cell_type": "markdown",
   "metadata": {},
   "source": [
    "# Sources\n",
    "\n",
    "- *Statistics in a Nutshell* by Sarah Boslaugh (O'Reilly)\n",
    "- *Think Stats* by Allen B. Downey (O'Reilly)"
   ]
  },
  {
   "cell_type": "code",
   "execution_count": null,
   "metadata": {},
   "outputs": [],
   "source": []
  },
  {
   "cell_type": "code",
   "execution_count": null,
   "metadata": {},
   "outputs": [],
   "source": []
  }
 ],
 "metadata": {
  "kernelspec": {
   "display_name": "Python 3",
   "language": "python",
   "name": "python3"
  },
  "language_info": {
   "codemirror_mode": {
    "name": "ipython",
    "version": 3
   },
   "file_extension": ".py",
   "mimetype": "text/x-python",
   "name": "python",
   "nbconvert_exporter": "python",
   "pygments_lexer": "ipython3",
   "version": "3.7.3"
  }
 },
 "nbformat": 4,
 "nbformat_minor": 2
}
