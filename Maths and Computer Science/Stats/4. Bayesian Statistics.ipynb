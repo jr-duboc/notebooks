{
 "cells": [
  {
   "cell_type": "markdown",
   "metadata": {},
   "source": [
    "# Baye's Theorem\n",
    "\n",
    "Baye's theorem helps us define the probability of an event based on prior knowledge. \n",
    "It states:\n",
    "\n",
    "$\\mathbb{P}(A|B) = \\frac{\\mathbb{P}(B \\cap A)}{\\mathbb{P}(B)} = \\frac{\\mathbb{P}(B \\cap A)}{\\mathbb{P}(B|A) + \\mathbb{P}(B|\\sim A)\\mathbb{P}(\\sim A)}$\n",
    "\n",
    "$\\mathbb{P}(A)$ is called the *prior probability* of A an $\\mathbb{P}(B|A)$ is the *posterior probability* of A. This is because after we run the formula, we know the probability of A *given* B, whereas before we only had the probability of A without any other context."
   ]
  },
  {
   "cell_type": "markdown",
   "metadata": {},
   "source": [
    "# The Base Rate Fallacy"
   ]
  }
 ],
 "metadata": {
  "kernelspec": {
   "display_name": "Python 3",
   "language": "python",
   "name": "python3"
  },
  "language_info": {
   "codemirror_mode": {
    "name": "ipython",
    "version": 3
   },
   "file_extension": ".py",
   "mimetype": "text/x-python",
   "name": "python",
   "nbconvert_exporter": "python",
   "pygments_lexer": "ipython3",
   "version": "3.7.3"
  }
 },
 "nbformat": 4,
 "nbformat_minor": 2
}
