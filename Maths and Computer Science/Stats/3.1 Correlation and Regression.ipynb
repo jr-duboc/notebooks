{
 "cells": [
  {
   "cell_type": "markdown",
   "metadata": {},
   "source": [
    "# Linear Regression\n",
    "\n",
    "OLS (Ordinal Least Square) regression equation:\n",
    "\n",
    "$Y = β_0 + β_1X_1 + β_2X_2 + β_3X_3 + … + e$\n",
    "\n",
    "$β_x$ is the coefficient for each dependent variable ($β_0$ is the intercept), and $e$ represent error in measurement."
   ]
  },
  {
   "cell_type": "markdown",
   "metadata": {},
   "source": [
    "## Pearson correlation coefficient (Pearson's r PPMCC or bivariate correlation )\n",
    "\n",
    "$\n",
    " \\rho  = \\frac{n\\sum{xy} - \\sum{x}\\sum{z}}{\\sqrt{(n\\sum{x^2}-(\\sum{x})^2)(n\\sum{y^2} - (\\sum{y})^2}) }\n",
    "$\n",
    "\n",
    "\n",
    "where\n",
    "\n",
    "| Element   | Definition |\n",
    "|-----------|------------|\n",
    "|$\\sum{xy}$ | Sum of the products of individual pairs of elements in $x$ and $y$ |\n",
    "|$\\sum{x}$ and $\\sum{y}$   | Sum of all elements in $x$ and $y$ |\n",
    "|$(\\sum{x})^2$ and $(\\sum{y})^2$| Square of the sum of all elements in $x$ and $y$ |\n",
    "|$\\sum{x}^2$ and $\\sum{y}^2$| Sum of the square of all elements in $x$ and $y$ |"
   ]
  },
  {
   "cell_type": "markdown",
   "metadata": {},
   "source": [
    "# Moving Average\n",
    "\n",
    "If the trend is not a simple function, a good alternative\n",
    "is a moving average. A moving average divides the series into overlapping\n",
    "regions, called windows, and computes the average of the values in each\n",
    "window"
   ]
  }
 ],
 "metadata": {
  "kernelspec": {
   "display_name": "Python 3",
   "language": "python",
   "name": "python3"
  },
  "language_info": {
   "codemirror_mode": {
    "name": "ipython",
    "version": 3
   },
   "file_extension": ".py",
   "mimetype": "text/x-python",
   "name": "python",
   "nbconvert_exporter": "python",
   "pygments_lexer": "ipython3",
   "version": "3.7.3"
  }
 },
 "nbformat": 4,
 "nbformat_minor": 2
}
