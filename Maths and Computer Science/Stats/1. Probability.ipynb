{
 "cells": [
  {
   "cell_type": "markdown",
   "metadata": {},
   "source": [
    "# Basic Concepts and Terminology\n",
    "\n",
    "Probability is the art of determining how likely each outcome of a **trial**, **experiment** or **observation** can be. The **sample space ($\\Omega$)** is the [set](../../Maths%20and%20Computer%20Science/Set%20Theory.ipynb) of all possible events in a trial. Look **[here for more on set theory](../../Maths%20and%20Computer%20Science/Set%20Theory.ipynb)**.  \n",
    "An **event** (usually signified by the letter $S$ or $\\omega$) is one of the possible outcomes. We want to know how likely each possible event is.\n",
    "\n",
    "\n",
    "The probability of an event is always between 0 and 1, and the sum the probabilities of all events in the sample space is equal to 1.\n",
    "\n",
    "Two events are **mutually exclusive** or **disjoint** is they can't both happen at the same time. A **partition** is a sequence of disjoint sets such as $\\bigcup^{\\infty}_{(i-1)}A_i = \\Omega$, ie. *every disjoint set of events making up the sample space*."
   ]
  },
  {
   "cell_type": "markdown",
   "metadata": {},
   "source": [
    "# Independent events\n",
    "\n",
    "Two events are **independent** if one event doesn't affect the other one. Again the perfect example is a coin toss: if you get heads on your first toss, this doesn't affect the second one.  \n",
    "Two events are independent if $\\mathbb{P}(AB) = \\mathbb{P}(A) \\mathbb{P}(B)$. We write $A \\coprod B$.  \n",
    "\n",
    "This also means that $A \\bigcap B =  \\emptyset \\implies \\mathbb{P} (A \\cup B) = \\mathbb{P}(A) +  \\mathbb{P}(B)$\n",
    "\n",
    "# Conditional probability\n",
    "\n",
    "Probability of event A *given* event B (regardless of dependance between events):\n",
    "\n",
    "$\n",
    "P(B|A) = \\frac{P(A and B)}{P(A)}\n",
    "$\n",
    "\n",
    "If we define A to be a Heads on the first toss and B to be Heads on the second, we have $P(A and B) = \\frac{1}{4}$, and $P(A) = \\frac{1}{2}$ as well, so $P(B|A) = \\frac{1}{2}$.\n",
    "Since we have $P(B|A) = P(B)$, we know that outcome A doesn't make any difference to the outcome of our second event.\n",
    "\n",
    "## Union of mutually exclusive events\n",
    "\n",
    "If $A$ and $B$ are mutually exclusive, then $P(A and B) = P(A) + P(B)$. You can't have $P(A)$ and $P(B)$ at the same time.\n",
    "\n",
    "## Union of events that are not mutually exclusive\n",
    "\n",
    "If you *can* have $P(A)$ and $P(B)$ at the same time, then you need to subtract $P(A \\cap B)$ (the [intersection](../../Maths%20and%20Computer%20Science/Set%20Theory.ipynb#Basic-concepts-and-Terminology) of the probabilities) so you avoid counting the same events twice: $P(A and B) = P(A) + P(B) - P(A \\cap B)$.  \n",
    "This is illustrated by the Venn diagram below. If we count all possible events in $s1$(5 events), then add all possible events in $s2$(8 events), we have 13 total events, but we've counted all events in the intersection twice. We need to adjust for that, and we get a sample space of 9 events."
   ]
  },
  {
   "cell_type": "code",
   "execution_count": 2,
   "metadata": {
    "scrolled": true
   },
   "outputs": [
    {
     "ename": "ModuleNotFoundError",
     "evalue": "No module named 'matplotlib_venn'",
     "output_type": "error",
     "traceback": [
      "\u001b[1;31m---------------------------------------------------------------------------\u001b[0m",
      "\u001b[1;31mModuleNotFoundError\u001b[0m                       Traceback (most recent call last)",
      "\u001b[1;32m<ipython-input-2-551f403bbf28>\u001b[0m in \u001b[0;36m<module>\u001b[1;34m\u001b[0m\n\u001b[0;32m      3\u001b[0m '''\n\u001b[0;32m      4\u001b[0m \u001b[1;33m\u001b[0m\u001b[0m\n\u001b[1;32m----> 5\u001b[1;33m \u001b[1;32mfrom\u001b[0m \u001b[0mmatplotlib_venn\u001b[0m \u001b[1;32mimport\u001b[0m \u001b[0mvenn2\u001b[0m\u001b[1;33m\u001b[0m\u001b[1;33m\u001b[0m\u001b[0m\n\u001b[0m\u001b[0;32m      6\u001b[0m \u001b[1;32mimport\u001b[0m \u001b[0mmatplotlib\u001b[0m\u001b[1;33m.\u001b[0m\u001b[0mpyplot\u001b[0m \u001b[1;32mas\u001b[0m \u001b[0mplt\u001b[0m\u001b[1;33m\u001b[0m\u001b[1;33m\u001b[0m\u001b[0m\n\u001b[0;32m      7\u001b[0m \u001b[1;32mfrom\u001b[0m \u001b[0msympy\u001b[0m \u001b[1;32mimport\u001b[0m \u001b[0mFiniteSet\u001b[0m\u001b[1;33m\u001b[0m\u001b[1;33m\u001b[0m\u001b[0m\n",
      "\u001b[1;31mModuleNotFoundError\u001b[0m: No module named 'matplotlib_venn'"
     ]
    }
   ],
   "source": [
    "'''\n",
    "Draw a Venn diagram for two sets\n",
    "'''\n",
    "\n",
    "from matplotlib_venn import venn2\n",
    "import matplotlib.pyplot as plt\n",
    "from sympy import FiniteSet\n",
    "def draw_venn(sets):\n",
    "    venn2(subsets=sets)\n",
    "    plt.show()\n",
    "\n",
    "s1 = FiniteSet(1, 3, 5, 17, 19)\n",
    "s2 = FiniteSet(2, 3, 5, 7, 11, 13, 17, 19)\n",
    "draw_venn([s1, s2])"
   ]
  },
  {
   "cell_type": "markdown",
   "metadata": {},
   "source": [
    "# Intersection of independent events\n",
    "\n",
    "To calculate this, you simply mutiply the probability of each event by each other:\n",
    "\n",
    "$P(E \\cap F) = P(E) × P(F)$\n",
    "\n",
    "# Intersection of dependent events\n",
    "\n",
    "If the events are not independent, we need to take into account the conditional probabilities so we calculate the probability of *both* events occuring:\n",
    "\n",
    "\n",
    "$P(E \\cap F) = P(E) × P(F|E)$"
   ]
  },
  {
   "cell_type": "markdown",
   "metadata": {},
   "source": [
    "# Probability function\n",
    "\n",
    "The **probability function** is the mathematical description of the probability for each event in sample space. For a coin toss we would write $P(Heads) = \\frac{1}{2}$ and $P(Tails) = \\frac{1}{2}$.  \n",
    "It assigns a probability value (between 0 and 1) to each event in $\\Omega$.\n",
    "\n",
    "A **probability density function (PDF)** assigns probability values for continuous sample spaces."
   ]
  }
 ],
 "metadata": {
  "kernelspec": {
   "display_name": "Python 3",
   "language": "python",
   "name": "python3"
  },
  "language_info": {
   "codemirror_mode": {
    "name": "ipython",
    "version": 3
   },
   "file_extension": ".py",
   "mimetype": "text/x-python",
   "name": "python",
   "nbconvert_exporter": "python",
   "pygments_lexer": "ipython3",
   "version": "3.7.4"
  }
 },
 "nbformat": 4,
 "nbformat_minor": 2
}
