{
 "cells": [
  {
   "cell_type": "markdown",
   "metadata": {},
   "source": [
    "# Different types of averages\n",
    "\n",
    "## The mean\n",
    "\n",
    "This is what most people of about when they say \"average\". We add all values, then divide them by the sample size $n$. Simples.\n",
    "\n",
    "$\\overline{x} = \\frac{1}{n}\\sum_{i=1}^{n}x_i$\n",
    "\n",
    "## The median"
   ]
  },
  {
   "cell_type": "markdown",
   "metadata": {},
   "source": [
    "# Measure of agreement\n",
    "\n",
    "## Cohen's Kappa\n",
    "\n",
    "\n",
    "$k = \\frac{P_o - P_e}{1-P_e}$\n",
    "\n",
    "$P_o$ is the observed agreement and $P_e$ is the expected agreement"
   ]
  },
  {
   "cell_type": "markdown",
   "metadata": {},
   "source": [
    "# Averages and measures of spread\n",
    "\n",
    "## Mean Absolute Deviation (MAD)\n",
    "\n",
    "$MAD = \\frac{1}{n} \\sum_{i=1}^{n} |x_i - \\overline{x}|$\n",
    "\n",
    "## Variance\n",
    "\n",
    "$ \\sigma^2 = \\frac{1}{n-1}\\sum_{i = 1}^{n}{(x_i - \\overline{x})^2}$\n",
    "\n",
    "## Standard Deviation\n",
    "\n",
    "$ \\sigma = \\sqrt{\\frac{\\sum_{i = 1}^{N}(x_i - \\overline{x})^2}{N - 1}}$"
   ]
  },
  {
   "cell_type": "code",
   "execution_count": null,
   "metadata": {},
   "outputs": [],
   "source": []
  }
 ],
 "metadata": {
  "kernelspec": {
   "display_name": "Python 3",
   "language": "python",
   "name": "python3"
  },
  "language_info": {
   "codemirror_mode": {
    "name": "ipython",
    "version": 3
   },
   "file_extension": ".py",
   "mimetype": "text/x-python",
   "name": "python",
   "nbconvert_exporter": "python",
   "pygments_lexer": "ipython3",
   "version": "3.7.3"
  }
 },
 "nbformat": 4,
 "nbformat_minor": 2
}
