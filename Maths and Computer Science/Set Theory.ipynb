{
 "cells": [
  {
   "cell_type": "markdown",
   "metadata": {},
   "source": [
    "# Basic concepts and Terminology\n",
    "\n",
    "A **set** is a group of things. *Things*, in this context, can really be anything we want: numbers, formulae, people, cows, etc.   \n",
    "They are denoted using curly braces, eg. $s = \\{1,4,56\\}$ is a set.\n",
    "\n",
    "A **subset** is a group of elements taken out of a set, eg. $e = \\{1,4\\}$ is a subset of $x$.\n",
    "\n",
    "Sets can be combined in various ways:\n",
    "\n",
    "- A **union** of sets $A$ and $B$ contains all elements contained in $A$ or $B$, or in $A$ *and* $B$. It's written ${A}\\cup{B}$\n",
    "- An **intersection** of sets $A$ and $B$ contains only elements contained both in $A$ *and* $B$. It's written ${A}\\cap{B}$\n",
    "\n",
    "The **complement** of a set contains everything that's *not* in the set, and is written $\\complement{A}$ or $ \\~{A}$ "
   ]
  },
  {
   "cell_type": "markdown",
   "metadata": {},
   "source": [
    "# Permutations\n",
    "\n",
    "A **permutation** is all the possible ways we can arrange the elements of a set. The number of permutations in a set of size $x$ is calculated using $x!$ (factorial of $x$). We have $x! = x + (x-1) + (x-2) + ... + 1$.\n",
    "\n",
    "The number of permutations of subsets of size $k$ drawn from a set of size $n$ is\n",
    "noted $nPk$, and calculated as:\n",
    "\n",
    "$nPk = \\frac{n!}{(n-k)!}$\n",
    "\n",
    "# Combinations\n",
    "\n",
    "**Combinations** are the same as permutations, with one significant difference: the order of elements don't matter. Therefore a set only ever has one combination of itself. We can take a number of combinations out of a set though, by selecting subsets from it.\n",
    "\n",
    "The number of combinations of subsets of size $k$ drawn from a set of size $n$ is noted $nCk$m and calculated as:\n",
    "\n",
    "$nCk = \\frac{nPk}{k!}$\n",
    "\n",
    "It's always smaller than $nPk$."
   ]
  }
 ],
 "metadata": {
  "kernelspec": {
   "display_name": "Python 3",
   "language": "python",
   "name": "python3"
  },
  "language_info": {
   "codemirror_mode": {
    "name": "ipython",
    "version": 3
   },
   "file_extension": ".py",
   "mimetype": "text/x-python",
   "name": "python",
   "nbconvert_exporter": "python",
   "pygments_lexer": "ipython3",
   "version": "3.7.3"
  }
 },
 "nbformat": 4,
 "nbformat_minor": 2
}
