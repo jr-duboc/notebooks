{
 "cells": [
  {
   "cell_type": "code",
   "execution_count": 2,
   "metadata": {},
   "outputs": [
    {
     "name": "stdout",
     "output_type": "stream",
     "text": [
      "Your number, please: 105\n",
      "1\n",
      "3\n",
      "5\n",
      "7\n",
      "15\n",
      "21\n",
      "35\n",
      "105\n"
     ]
    }
   ],
   "source": [
    "'''\n",
    "Find the factors of an integer\n",
    "'''\n",
    "\n",
    "def factors(b):\n",
    "    for i in range (1, b+1):\n",
    "        if b % i == 0:\n",
    "            print(i)\n",
    "            \n",
    "\n",
    "b = input('Your number, please: ')\n",
    "b = float(b)\n",
    "\n",
    "if b > 0 and b.is_integer():\n",
    "    factors(int(b))\n",
    "else:\n",
    "    print('Please enter a positive integer')"
   ]
  },
  {
   "cell_type": "code",
   "execution_count": null,
   "metadata": {},
   "outputs": [],
   "source": [
    "'''\n",
    "Roots of a quadratic equation\n",
    "'''\n",
    "\n",
    "c = input(\"test one two\")"
   ]
  }
 ],
 "metadata": {
  "kernelspec": {
   "display_name": "Python 3",
   "language": "python",
   "name": "python3"
  },
  "language_info": {
   "codemirror_mode": {
    "name": "ipython",
    "version": 3
   },
   "file_extension": ".py",
   "mimetype": "text/x-python",
   "name": "python",
   "nbconvert_exporter": "python",
   "pygments_lexer": "ipython3",
   "version": "3.7.3"
  }
 },
 "nbformat": 4,
 "nbformat_minor": 2
}
