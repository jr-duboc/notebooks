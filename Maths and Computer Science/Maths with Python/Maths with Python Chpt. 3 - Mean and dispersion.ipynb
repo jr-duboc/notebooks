{
 "cells": [
  {
   "cell_type": "code",
   "execution_count": 1,
   "metadata": {},
   "outputs": [
    {
     "name": "stdout",
     "output_type": "stream",
     "text": [
      "30.75\n"
     ]
    }
   ],
   "source": [
    "'''\n",
    "Calculate the mean of a list of data\n",
    "''' \n",
    "\n",
    "data = [45,5,69,4]\n",
    "mean = sum(data)/len(data)\n",
    "print(mean)"
   ]
  },
  {
   "cell_type": "code",
   "execution_count": 5,
   "metadata": {},
   "outputs": [
    {
     "data": {
      "text/plain": [
       "500.0"
      ]
     },
     "execution_count": 5,
     "metadata": {},
     "output_type": "execute_result"
    }
   ],
   "source": [
    "'''\n",
    "Calculate the median\n",
    "'''\n",
    "\n",
    "def calculate_median(numbers):\n",
    "    N = len(numbers)\n",
    "    numbers.sort()\n",
    "    \n",
    "    if N % 2 == 0:\n",
    "        m1 = N/2\n",
    "        m2 = N/2 +1\n",
    "        m1 = int(m1) - 1\n",
    "        m2 = int(m2) - 1\n",
    "        median = (numbers[m1] + numbers[m2])/2\n",
    "    else:\n",
    "        m = (N+1)/2\n",
    "        m = int(m) -1\n",
    "        median = numbers[m]\n",
    "        \n",
    "    return median\n",
    "\n",
    "calculate_median([100, 60, 70, 900, 100, 200, 500, 500, 503, 600, 1000, 1200])"
   ]
  },
  {
   "cell_type": "code",
   "execution_count": 24,
   "metadata": {},
   "outputs": [
    {
     "name": "stdout",
     "output_type": "stream",
     "text": [
      "Number\tFrequency\n",
      "9\t5\n",
      "6\t3\n",
      "7\t2\n",
      "8\t2\n",
      "10\t2\n",
      "5\t2\n",
      "1\t2\n",
      "2\t1\n",
      "4\t1\n"
     ]
    }
   ],
   "source": [
    "'''\n",
    "Mode and frequency table\n",
    "'''\n",
    "\n",
    "# Basic mode\n",
    "simplelist = [4, 2, 1, 3, 3, 3 , 4]\n",
    "from collections import Counter\n",
    "c = Counter(simplelist)\n",
    "c.most_common()[0][0]\n",
    "\n",
    "# Frequency table\n",
    "def frequency_table(numbers):\n",
    "    table = Counter(numbers)\n",
    "    print('Number\\tFrequency')\n",
    "    for number in table.most_common():\n",
    "        print('{0}\\t{1}'.format(number[0],number[1]))\n",
    "        \n",
    "scores = [7, 8, 9, 2, 10, 9, 9, 9, 9, 4, 5, 6, 1, 5, 6, 7, 8, 6, 1, 10]\n",
    "frequency_table(scores)"
   ]
  },
  {
   "cell_type": "code",
   "execution_count": 34,
   "metadata": {},
   "outputs": [
    {
     "name": "stdout",
     "output_type": "stream",
     "text": [
      "Lowest: 60, Highest: 1200, Range: 1140\n"
     ]
    }
   ],
   "source": [
    "# Range\n",
    "def find_range(numbers):\n",
    "    lowest = min(numbers)\n",
    "    highest = max(numbers)\n",
    "    return lowest, highest, highest-lowest\n",
    "\n",
    "donations = [100, 60, 70, 900, 100, 200, 500, 500, 503, 600, 1000, 1200]\n",
    "lowest,highest,r = find_range(donations)\n",
    "print('Lowest: {0}, Highest: {1}, Range: {2}'.format(lowest,highest,r))\n",
    "\n"
   ]
  },
  {
   "cell_type": "code",
   "execution_count": 50,
   "metadata": {},
   "outputs": [
    {
     "name": "stdout",
     "output_type": "stream",
     "text": [
      "Variance is 141047.35416666666\n",
      "Standard diviation is 375.5627166887931\n",
      "Variance is 135.38888888888889\n",
      "Standard diviation is 11.63567311713804\n"
     ]
    }
   ],
   "source": [
    "'''\n",
    "Variance and Standard deviation\n",
    "'''\n",
    "\n",
    "def calculate_mean(numbers):\n",
    "    s = sum(numbers)\n",
    "    N = len(numbers)\n",
    "    mean = s/N\n",
    "    return mean\n",
    "\n",
    "def find_differences(numbers):\n",
    "    mean=calculate_mean(numbers)\n",
    "    # Calculate the difference from the mean for each data point\n",
    "    diff=[] \n",
    "    for num in numbers:\n",
    "            diff.append(num - mean)\n",
    "    return diff\n",
    "\n",
    "def calculate_variance(numbers):\n",
    "    diff = find_differences(numbers)\n",
    "    squared_diff = []\n",
    "    for d in diff:\n",
    "        squared_diff.append(d**2)\n",
    "    sum_squared_diff = sum(squared_diff)\n",
    "    variance = sum_squared_diff/len(numbers)\n",
    "    return variance\n",
    "\n",
    "donations = [100, 60, 70, 900, 100, 200, 500, 500, 503, 600, 1000, 1200]\n",
    "variance = calculate_variance(donations)\n",
    "standard_deviation = variance**0.5\n",
    "\n",
    "print('Variance is {0}\\nStandard diviation is {1}'.format(variance,standard_deviation))\n",
    "\n",
    "\n",
    "donations_2 = [382, 389, 377, 397, 396, 368, 369, 392,398, 367, 393, 396]\n",
    "variance_2 = calculate_variance(donations_2)\n",
    "standard_deviation_2 = variance_2**0.5\n",
    "\n",
    "print('Variance is {0}\\nStandard diviation is {1}'.format(variance_2,standard_deviation_2))"
   ]
  },
  {
   "cell_type": "code",
   "execution_count": null,
   "metadata": {},
   "outputs": [],
   "source": []
  },
  {
   "cell_type": "code",
   "execution_count": null,
   "metadata": {},
   "outputs": [],
   "source": []
  }
 ],
 "metadata": {
  "kernelspec": {
   "display_name": "Python 3",
   "language": "python",
   "name": "python3"
  },
  "language_info": {
   "codemirror_mode": {
    "name": "ipython",
    "version": 3
   },
   "file_extension": ".py",
   "mimetype": "text/x-python",
   "name": "python",
   "nbconvert_exporter": "python",
   "pygments_lexer": "ipython3",
   "version": "3.7.3"
  }
 },
 "nbformat": 4,
 "nbformat_minor": 2
}
