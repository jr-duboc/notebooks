{
 "cells": [
  {
   "cell_type": "code",
   "execution_count": 7,
   "metadata": {},
   "outputs": [
    {
     "name": "stdout",
     "output_type": "stream",
     "text": [
      "2*x + 1\n",
      "x y z\n",
      "2*x*y\n",
      "(x + 2)*(x + 3)\n",
      "x**2 + 5*x + 6\n"
     ]
    }
   ],
   "source": [
    "'''Basic Symbols'''\n",
    "\n",
    "from sympy import Symbol, symbols\n",
    "x = Symbol('x')\n",
    "print(x+x+1)\n",
    "\n",
    "x,y,z = symbols('x,y,z')\n",
    "print(x,y,z)\n",
    "\n",
    "s = x*y + x*y\n",
    "print(s)\n",
    "\n",
    "exp = (x + 2)*(x + 3)\n",
    "print(exp)\n",
    "print(exp.expand())"
   ]
  },
  {
   "cell_type": "code",
   "execution_count": 33,
   "metadata": {},
   "outputs": [
    {
     "data": {
      "text/latex": [
       "$$\\left(x - y\\right) \\left(x + y\\right)$$"
      ],
      "text/plain": [
       "(x - y)*(x + y)"
      ]
     },
     "metadata": {},
     "output_type": "display_data"
    },
    {
     "data": {
      "text/latex": [
       "$$x^{2} - y^{2}$$"
      ],
      "text/plain": [
       "x**2 - y**2"
      ]
     },
     "metadata": {},
     "output_type": "display_data"
    }
   ],
   "source": [
    "'''Expand and Factorise'''\n",
    "\n",
    "from sympy import Symbol, symbols,factor,pprint,init_printing\n",
    "from IPython.display import display\n",
    "\n",
    "x,y = symbols('x,y')\n",
    "\n",
    "expr = x**2 - y**2\n",
    "\n",
    "factor = expr.factor()\n",
    "\n",
    "init_printing(use_latex='mathjax') # Nice printing\n",
    "display(factor)\n",
    "display(factor.expand())"
   ]
  },
  {
   "cell_type": "code",
   "execution_count": 60,
   "metadata": {
    "scrolled": false
   },
   "outputs": [
    {
     "name": "stdout",
     "output_type": "stream",
     "text": [
      "Number of terms in your series: 54\n",
      "Value for x: 5\n"
     ]
    },
    {
     "data": {
      "text/latex": [
       "$$\\frac{x^{54}}{54} + \\frac{x^{53}}{53} + \\frac{x^{52}}{52} + \\frac{x^{51}}{51} + \\frac{x^{50}}{50} + \\frac{x^{49}}{49} + \\frac{x^{48}}{48} + \\frac{x^{47}}{47} + \\frac{x^{46}}{46} + \\frac{x^{45}}{45} + \\frac{x^{44}}{44} + \\frac{x^{43}}{43} + \\frac{x^{42}}{42} + \\frac{x^{41}}{41} + \\frac{x^{40}}{40} + \\frac{x^{39}}{39} + \\frac{x^{38}}{38} + \\frac{x^{37}}{37} + \\frac{x^{36}}{36} + \\frac{x^{35}}{35} + \\frac{x^{34}}{34} + \\frac{x^{33}}{33} + \\frac{x^{32}}{32} + \\frac{x^{31}}{31} + \\frac{x^{30}}{30} + \\frac{x^{29}}{29} + \\frac{x^{28}}{28} + \\frac{x^{27}}{27} + \\frac{x^{26}}{26} + \\frac{x^{25}}{25} + \\frac{x^{24}}{24} + \\frac{x^{23}}{23} + \\frac{x^{22}}{22} + \\frac{x^{21}}{21} + \\frac{x^{20}}{20} + \\frac{x^{19}}{19} + \\frac{x^{18}}{18} + \\frac{x^{17}}{17} + \\frac{x^{16}}{16} + \\frac{x^{15}}{15} + \\frac{x^{14}}{14} + \\frac{x^{13}}{13} + \\frac{x^{12}}{12} + \\frac{x^{11}}{11} + \\frac{x^{10}}{10} + \\frac{x^{9}}{9} + \\frac{x^{8}}{8} + \\frac{x^{7}}{7} + \\frac{x^{6}}{6} + \\frac{x^{5}}{5} + \\frac{x^{4}}{4} + \\frac{x^{3}}{3} + \\frac{x^{2}}{2} + x$$"
      ],
      "text/plain": [
       "x**54/54 + x**53/53 + x**52/52 + x**51/51 + x**50/50 + x**49/49 + x**48/48 + x**47/47 + x**46/46 + x**45/45 + x**44/44 + x**43/43 + x**42/42 + x**41/41 + x**40/40 + x**39/39 + x**38/38 + x**37/37 + x**36/36 + x**35/35 + x**34/34 + x**33/33 + x**32/32 + x**31/31 + x**30/30 + x**29/29 + x**28/28 + x**27/27 + x**26/26 + x**25/25 + x**24/24 + x**23/23 + x**22/22 + x**21/21 + x**20/20 + x**19/19 + x**18/18 + x**17/17 + x**16/16 + x**15/15 + x**14/14 + x**13/13 + x**12/12 + x**11/11 + x**10/10 + x**9/9 + x**8/8 + x**7/7 + x**6/6 + x**5/5 + x**4/4 + x**3/3 + x**2/2 + x"
      ]
     },
     "metadata": {},
     "output_type": "display_data"
    },
    {
     "name": "stdout",
     "output_type": "stream",
     "text": [
      "Value of the series for x=5.0: 1.29110073635988e+36\n"
     ]
    }
   ],
   "source": [
    "'''\n",
    "Print the series:\n",
    "x + x**2 + x**3 + ... + x**n\n",
    "    ____  _____        _____\n",
    "      2     3            n\n",
    "'''\n",
    "\n",
    "from sympy import Symbol, pprint, init_printing\n",
    "from IPython.display import display\n",
    "\n",
    "init_printing(use_latex='mathjax') # Nice printing\n",
    "\n",
    "def print_series(n,x_value):\n",
    "    init_printing(use_latex='mathjax') \n",
    "    \n",
    "    x = Symbol('x')\n",
    "    series = x\n",
    "    for i in range(2, n+1):\n",
    "        series = (x**i)/i + series\n",
    "    display(series)\n",
    "    print('Value of the series for x=' + str(x_value) + ': ' + str(series.subs({x:x_value})))\n",
    "\n",
    "n = input('Number of terms in your series: ')\n",
    "x_value = input('Value for x: ')\n",
    "print_series(int(n), float(x_value))"
   ]
  },
  {
   "cell_type": "code",
   "execution_count": 53,
   "metadata": {},
   "outputs": [
    {
     "data": {
      "text/latex": [
       "$$x^{2} + 2 x y + 2 y$$"
      ],
      "text/plain": [
       "x**2 + 2*x*y + 2*y"
      ]
     },
     "metadata": {},
     "output_type": "display_data"
    },
    {
     "data": {
      "text/latex": [
       "$$2 y \\left(- y + 1\\right) + 2 y + \\left(- y + 1\\right)^{2}$$"
      ],
      "text/plain": [
       "2*y*(-y + 1) + 2*y + (-y + 1)**2"
      ]
     },
     "metadata": {},
     "output_type": "display_data"
    },
    {
     "data": {
      "text/latex": [
       "$$- y^{2} + 2 y + 1$$"
      ],
      "text/plain": [
       "-y**2 + 2*y + 1"
      ]
     },
     "execution_count": 53,
     "metadata": {},
     "output_type": "execute_result"
    }
   ],
   "source": [
    "# Evaluate an expression using values\n",
    "from sympy import Symbol, pprint, init_printing, simplify\n",
    "from IPython.display import display\n",
    "\n",
    "init_printing(use_latex='mathjax') # Nice printing\n",
    "\n",
    "x,y = symbols('x,y')\n",
    "expr = x*x + x*y + x*y + y+y\n",
    "display(expr)\n",
    "\n",
    "expr.subs({x:5,y:20})\n",
    "expr_subs = expr.subs({x:1-y})\n",
    "display(expr_subs)\n",
    "simplify(expr_subs)"
   ]
  },
  {
   "cell_type": "code",
   "execution_count": 63,
   "metadata": {},
   "outputs": [
    {
     "name": "stdout",
     "output_type": "stream",
     "text": [
      "Enter a mathematical expression: x**r - y+2\n"
     ]
    },
    {
     "data": {
      "text/latex": [
       "$$x^{r} - y + 2$$"
      ],
      "text/plain": [
       "x**r - y + 2"
      ]
     },
     "metadata": {},
     "output_type": "display_data"
    }
   ],
   "source": [
    "from sympy import sympify,init_printing\n",
    "from IPython.display import display\n",
    "\n",
    "init_printing(use_latex='mathjax') # Nice printing\n",
    "\n",
    "expr = input('Enter a mathematical expression: ')\n",
    "expr = display(sympify(expr))"
   ]
  },
  {
   "cell_type": "code",
   "execution_count": null,
   "metadata": {},
   "outputs": [],
   "source": []
  }
 ],
 "metadata": {
  "kernelspec": {
   "display_name": "Python 3",
   "language": "python",
   "name": "python3"
  },
  "language_info": {
   "codemirror_mode": {
    "name": "ipython",
    "version": 3
   },
   "file_extension": ".py",
   "mimetype": "text/x-python",
   "name": "python",
   "nbconvert_exporter": "python",
   "pygments_lexer": "ipython3",
   "version": "3.7.0"
  }
 },
 "nbformat": 4,
 "nbformat_minor": 2
}
