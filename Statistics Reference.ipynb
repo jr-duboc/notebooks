{
 "cells": [
  {
   "cell_type": "markdown",
   "metadata": {},
   "source": [
    "# Probability\n",
    "$\n",
    "P(B|A) = \\frac{P(A and B)}{P(A)}\n",
    "$\n",
    "\n"
   ]
  },
  {
   "cell_type": "markdown",
   "metadata": {},
   "source": [
    "# Averages and measures of spread\n",
    "\n",
    "## Mean Absolute Deviation (MAD)\n",
    "\n",
    "$MAD = \\frac{1}{n} \\sum_{i=1}^{n} |x_i - \\overline{x}|$\n",
    "\n",
    "## Variance\n",
    "\n",
    "$ \\sigma^2 = \\frac{1}{n-1}\\sum_{i = 1}^{n}{(x_i - \\overline{x})^2}$\n",
    "\n",
    "## Standard Deviation\n",
    "\n",
    "$ \\sigma = \\sqrt{\\frac{\\sum_{i = 1}^{N}(x_i - \\overline{x})^2}{N - 1}}$"
   ]
  },
  {
   "cell_type": "markdown",
   "metadata": {},
   "source": [
    "# Correlation\n",
    "\n",
    "## Pearson correlation coefficient (Pearson's r PPMCC or bivariate correlation )\n",
    "\n",
    "$\n",
    " \\rho  = \\frac{n\\sum{xy} - \\sum{x}\\sum{z}}{\\sqrt{(n\\sum{x^2}-(\\sum{x})^2)(n\\sum{y^2} - (\\sum{y})^2}) }\n",
    "$\n",
    "\n",
    "\n",
    "where\n",
    "\n",
    "| Element | Definition |\n",
    "|---------|------------|\n",
    "|$\\sum{xy}$ | Sum of the products of individual pairs of elements in $x$ and $y$ |\n",
    "|$\\sum{x}$ and $\\sum{y}$   | Sum of all elements in $x$ and $y$ |\n",
    "|$(\\sum{x})^2$ and $(\\sum{y})^2$| Square of the sum of all elements in $x$ and $y$ |\n",
    "|$\\sum{x}^2$ and $\\sum{y}^2$| Sum of the square of all elements in $x$ and $y$ |"
   ]
  },
  {
   "cell_type": "code",
   "execution_count": null,
   "metadata": {},
   "outputs": [],
   "source": []
  },
  {
   "cell_type": "code",
   "execution_count": null,
   "metadata": {},
   "outputs": [],
   "source": []
  }
 ],
 "metadata": {
  "kernelspec": {
   "display_name": "Python 3",
   "language": "python",
   "name": "python3"
  },
  "language_info": {
   "codemirror_mode": {
    "name": "ipython",
    "version": 3
   },
   "file_extension": ".py",
   "mimetype": "text/x-python",
   "name": "python",
   "nbconvert_exporter": "python",
   "pygments_lexer": "ipython3",
   "version": "3.7.0"
  }
 },
 "nbformat": 4,
 "nbformat_minor": 2
}
