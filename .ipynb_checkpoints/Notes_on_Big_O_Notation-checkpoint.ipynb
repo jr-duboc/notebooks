{
 "cells": [
  {
   "cell_type": "markdown",
   "metadata": {},
   "source": [
    "# Basic definitions\n",
    "\n",
    "## Big O\n",
    "\n",
    "$f(n) = O(g(n))$ means that there is a variable $c$ such that, for all sufficiently big $n$, we always have  $f(n) \\leq c.g(n)$.  \n",
    "We say that $c.g(n)$ is an _upper bound_ of $f(n)$.  \n",
    "A function can have multiple upper bound, for instance $n+1 = O(n)$ because $n+1$ is always bigger than $n$, but we can also say that $n+2 = O(n)$ for the same reason. In fact, we can also say $n+2 = O(n+1)$.\n",
    "\n",
    "## Omega ($\\Omega$)\n",
    "\n",
    "$f(n) = \\Omega(g(n))$ \n",
    "\n",
    "\n",
    "## Theta ($\\Theta$)"
   ]
  },
  {
   "cell_type": "markdown",
   "metadata": {},
   "source": [
    "# Best case, worst case, and average case\n",
    "\n",
    "$\\Omega(f(x)) = n^2$"
   ]
  },
  {
   "cell_type": "code",
   "execution_count": null,
   "metadata": {},
   "outputs": [],
   "source": []
  }
 ],
 "metadata": {
  "kernelspec": {
   "display_name": "Python 3",
   "language": "python",
   "name": "python3"
  },
  "language_info": {
   "codemirror_mode": {
    "name": "ipython",
    "version": 3
   },
   "file_extension": ".py",
   "mimetype": "text/x-python",
   "name": "python",
   "nbconvert_exporter": "python",
   "pygments_lexer": "ipython3",
   "version": "3.7.0"
  }
 },
 "nbformat": 4,
 "nbformat_minor": 2
}
