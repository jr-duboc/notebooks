{
 "cells": [
  {
   "cell_type": "code",
   "execution_count": 10,
   "metadata": {},
   "outputs": [
    {
     "data": {
      "text/plain": [
       "<bound method rv_continuous.cdf of <scipy.stats._continuous_distns.norm_gen object at 0x7fd616c4dcf8>>"
      ]
     },
     "execution_count": 10,
     "metadata": {},
     "output_type": "execute_result"
    }
   ],
   "source": [
    "# Standard normal distribution\n",
    "\n",
    "import scipy.stats\n",
    "import matplotlib.pyplot as plt\n",
    "\n",
    "scipy.stats.norm.cdf(0)\n",
    "# Should be 0.5 because the CDF should include exactly half the values for 0\n",
    "\n",
    "def EvalNormalCdf(x, mu=0, sigma=1):\n",
    "    return scipy.stats.norm.cdf(x, loc=mu, scale=sigma)\n",
    "\n",
    "\n",
    "\n",
    "scipy.stats.norm.cdf"
   ]
  },
  {
   "cell_type": "code",
   "execution_count": null,
   "metadata": {},
   "outputs": [],
   "source": []
  }
 ],
 "metadata": {
  "kernelspec": {
   "display_name": "Python 3",
   "language": "python",
   "name": "python3"
  },
  "language_info": {
   "codemirror_mode": {
    "name": "ipython",
    "version": 3
   },
   "file_extension": ".py",
   "mimetype": "text/x-python",
   "name": "python",
   "nbconvert_exporter": "python",
   "pygments_lexer": "ipython3",
   "version": "3.7.3"
  }
 },
 "nbformat": 4,
 "nbformat_minor": 2
}
