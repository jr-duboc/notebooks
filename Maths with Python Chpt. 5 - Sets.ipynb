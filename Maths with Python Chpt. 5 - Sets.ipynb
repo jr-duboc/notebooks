{
 "cells": [
  {
   "cell_type": "code",
   "execution_count": 3,
   "metadata": {},
   "outputs": [
    {
     "data": {
      "image/png": "[encoded data removed]",
      "text/plain": [
       "<Figure size 432x288 with 1 Axes>"
      ]
     },
     "metadata": {},
     "output_type": "display_data"
    }
   ],
   "source": [
    "'''\n",
    "Draw a Venn diagram for two sets\n",
    "'''\n",
    "\n",
    "from matplotlib_venn import venn2\n",
    "import matplotlib.pyplot as plt\n",
    "from sympy import FiniteSet\n",
    "def draw_venn(sets):\n",
    "    venn2(subsets=sets)\n",
    "    plt.show()\n",
    "\n",
    "s1 = FiniteSet(1, 3, 5, 7, 9, 11, 13, 15, 17, 19)\n",
    "s2 = FiniteSet(2, 3, 5, 7, 11, 13, 17, 19)\n",
    "draw_venn([s1, s2])"
   ]
  },
  {
   "cell_type": "code",
   "execution_count": 19,
   "metadata": {},
   "outputs": [
    {
     "data": {
      "text/plain": [
       "<matplotlib_venn._common.VennDiagram instance at 0x7f0580268a28>"
      ]
     },
     "execution_count": 19,
     "metadata": {},
     "output_type": "execute_result"
    },
    {
     "data": {
      "image/png": "[encoded data removed]",
      "text/plain": [
       "<Figure size 432x288 with 1 Axes>"
      ]
     },
     "metadata": {},
     "output_type": "display_data"
    }
   ],
   "source": [
    "# Coding Challenge #1 - import CSV and visualise common answers in survey\n",
    "\n",
    "import csv\n",
    "from matplotlib_venn import venn2\n",
    "import matplotlib.pyplot as plt\n",
    "\n",
    "def read_csv(filename):\n",
    "    football = [ ]\n",
    "    others = [ ] \n",
    "    with open(filename) as f:\n",
    "        reader = csv.reader(f)\n",
    "        next(reader)\n",
    "        for row in reader:\n",
    "            if row[1] == '1':\n",
    "                football.append(row[0])\n",
    "            if(row[2]) == '1':\n",
    "                others.append(row[0])\n",
    "    return football,others\n",
    "\n",
    "\n",
    "survey_results = read_csv('students_survey.csv')\n",
    "football_set = set(survey_results[0])\n",
    "others_set = set(survey_results[1])\n",
    "venn2(subsets=(football_set,others_set), set_labels=('Football', 'Otheres'))\n"
   ]
  },
  {
   "cell_type": "code",
   "execution_count": 9,
   "metadata": {
    "scrolled": true
   },
   "outputs": [
    {
     "name": "stdout",
     "output_type": "stream",
     "text": [
      "Expected value: 3.5\n",
      "5.0\n",
      "6.0\n",
      "5.0\n",
      "3.0\n",
      "1.0\n",
      "3.0\n",
      "2.0\n",
      "6.0\n",
      "5.0\n",
      "4.0\n",
      "Trials: 10 Trial average 4.0\n"
     ]
    }
   ],
   "source": [
    "# Expected value for a die roll\n",
    "import random\n",
    "\n",
    "e = 1*(1.0/6) + 2*(1.0/6) + 3*(1.0/6) + 4*(1.0/6) + 5*(1.0/6) + 6*(1.0/6)\n",
    "print('Expected value: {0}'.format(e))\n",
    "\n",
    "def trials(number_trials):\n",
    "    counter = 0;\n",
    "    for x in range(number_trials):\n",
    "        result = float(random.randint(1,6))\n",
    "        counter += result\n",
    "        print(result)\n",
    "    print('Trials: {0} Trial average {1}'.format(number_trials,float(counter/number_trials)))\n",
    "    \n",
    "        \n",
    "trials(10)"
   ]
  },
  {
   "cell_type": "code",
   "execution_count": 4,
   "metadata": {},
   "outputs": [
    {
     "name": "stdout",
     "output_type": "stream",
     "text": [
      "Enter the target score: 6\n",
      "Enter the maximum of rolls allowed: 1\n",
      "Probability: 0.16667\n"
     ]
    }
   ],
   "source": [
    "from sympy import FiniteSet\n",
    "import random\n",
    "\n",
    "def find_prob(target_score, max_rolls):\n",
    "    \n",
    "    die_sides = FiniteSet(1,2,3,4,5,6)\n",
    "    # Sample space\n",
    "    s = die_sides**max_rolls\n",
    "    #Find the event set\n",
    "    if max_rolls > 1:\n",
    "        success_rolls = []\n",
    "        for elem in s:# For all subsets of s\n",
    "            if sum(elem) >= target_score: # Sum and check if it gets us the target score or more\n",
    "                success_rolls.append(elem)\n",
    "    else:\n",
    "        if target_score > 6:\n",
    "            success_rolls = [] # We know there's a 0 change to score more than 6 in one go\n",
    "        else:\n",
    "            success_rolls = []\n",
    "            for roll in die_sides:\n",
    "                if roll >= target_score: # Check the score in the one go we have\n",
    "                    success_rolls.append(roll)\n",
    "    e = FiniteSet(*success_rolls)\n",
    "    # Calculate the probability of success (reaching target score)\n",
    "    return float(len(e))/float(len(s))\n",
    "\n",
    "target_score = int(input('Enter the target score: '))\n",
    "max_rolls = int(input('Enter the maximum of rolls allowed: '))\n",
    "p = find_prob(target_score,max_rolls)\n",
    "print('Probability: {0:.5f}'.format(p))"
   ]
  },
  {
   "cell_type": "code",
   "execution_count": 47,
   "metadata": {},
   "outputs": [
    {
     "name": "stdout",
     "output_type": "stream",
     "text": [
      "69 heads, 31 tails\n"
     ]
    }
   ],
   "source": [
    "# Non-uniform random coin toss generator\n",
    "\n",
    "def toss():\n",
    "    # 0 -> heads, 1 -> tail\n",
    "    if random.random() < 2.0/3.0:\n",
    "        return 0\n",
    "    else:\n",
    "        return 1\n",
    "    \n",
    "headsCounter = 0\n",
    "tailsCounter = 0 \n",
    "for x in range(100):\n",
    "    if (toss() == 1):\n",
    "        tailsCounter += 1\n",
    "    else :\n",
    "        headsCounter += 1\n",
    "    \n",
    "print '{0} heads, {1} tails'.format(headsCounter,tailsCounter)\n",
    "        "
   ]
  },
  {
   "cell_type": "code",
   "execution_count": 45,
   "metadata": {
    "scrolled": true
   },
   "outputs": [
    {
     "data": {
      "image/png": "[encoded data removed]",
      "text/plain": [
       "<Figure size 432x288 with 1 Axes>"
      ]
     },
     "metadata": {
      "needs_background": "light"
     },
     "output_type": "display_data"
    }
   ],
   "source": [
    "'''\n",
    "Simulate a fictional ATM that dispenses bills\n",
    "of various denominations with varying probability\n",
    "'''\n",
    "\n",
    "import matplotlib.pyplot as plt\n",
    "import numpy as np\n",
    "\n",
    "import random\n",
    "from __future__ import division\n",
    "\n",
    "dollar_bills = [5,10,20,50]\n",
    "distribution = [0, 0, 0, 0]\n",
    "\n",
    "def get_index(probability):\n",
    "    c_probability = 0\n",
    "    sum_probability = []\n",
    "    for p in probability:\n",
    "        c_probability += p\n",
    "        sum_probability.append(c_probability)\n",
    "    r = random.random()\n",
    "    for index, sp in enumerate(sum_probability):\n",
    "        if r <= sp:\n",
    "            return index\n",
    "    return len(probability) - 1\n",
    "\n",
    "\n",
    "\n",
    "def dispense():\n",
    "    probability = [1/6, 1/6, 1/3, 2/3]\n",
    "    bill_index = get_index(probability)\n",
    "    distribution[bill_index] += 1\n",
    "    return dollar_bills[bill_index]\n",
    "\n",
    "\n",
    "for i in range(100):\n",
    "    bill_value = dispense()\n",
    "\n",
    "plt.title('Distribution of bills')\n",
    "plt.scatter(dollar_bills,distribution)\n",
    "plt.show()"
   ]
  },
  {
   "cell_type": "code",
   "execution_count": 27,
   "metadata": {},
   "outputs": [
    {
     "name": "stdout",
     "output_type": "stream",
     "text": [
      "Expected value: 3.5\n",
      "Trials: 10 Trial average 3.6\n",
      "Trials: 100 Trial average 3.52\n",
      "Trials: 1000 Trial average 3.406\n",
      "Trials: 10000 Trial average 3.5182\n",
      "Trials: 50000 Trial average 3.51514\n",
      "Trials: 100000 Trial average 3.49931\n",
      "Trials: 1000000 Trial average 3.499648\n"
     ]
    }
   ],
   "source": [
    "'''\n",
    "Using code to verify the law of large \n",
    "'''\n",
    "\n",
    "e = 1*(1/6) + 2*(1/6) + 3*(1/6) + 4*(1/6) + 5*(1/6) + 6*(1/6)\n",
    "print('Expected value: {0}'.format(e))\n",
    "\n",
    "# Simulate a random die roll\n",
    "def roll_die():\n",
    "    result = float(random.randint(1,6))\n",
    "    return result\n",
    "\n",
    "# Loop through the die as many times as requested\n",
    "def repeat_roll(number_of_rolls):\n",
    "    counter = 0\n",
    "    for roll in range(number_of_rolls):\n",
    "        counter += roll_die()\n",
    "    return counter/number_of_rolls\n",
    "\n",
    "print(\"Trials: {0} Trial average {1}\".format(10,repeat_roll(10)))\n",
    "print(\"Trials: {0} Trial average {1}\".format(100,repeat_roll(100)))\n",
    "print(\"Trials: {0} Trial average {1}\".format(1000,repeat_roll(1000)))\n",
    "print(\"Trials: {0} Trial average {1}\".format(10000,repeat_roll(10000)))\n",
    "print(\"Trials: {0} Trial average {1}\".format(50000,repeat_roll(50000)))\n",
    "print(\"Trials: {0} Trial average {1}\".format(100000,repeat_roll(100000)))\n",
    "print(\"Trials: {0} Trial average {1}\".format(1000000,repeat_roll(1000000)))"
   ]
  },
  {
   "cell_type": "code",
   "execution_count": null,
   "metadata": {},
   "outputs": [],
   "source": []
  },
  {
   "cell_type": "code",
   "execution_count": null,
   "metadata": {},
   "outputs": [],
   "source": []
  },
  {
   "cell_type": "code",
   "execution_count": null,
   "metadata": {},
   "outputs": [],
   "source": []
  }
 ],
 "metadata": {
  "kernelspec": {
   "display_name": "Python 3",
   "language": "python",
   "name": "python3"
  },
  "language_info": {
   "codemirror_mode": {
    "name": "ipython",
    "version": 3
   },
   "file_extension": ".py",
   "mimetype": "text/x-python",
   "name": "python",
   "nbconvert_exporter": "python",
   "pygments_lexer": "ipython3",
   "version": "3.7.3"
  }
 },
 "nbformat": 4,
 "nbformat_minor": 2
}
